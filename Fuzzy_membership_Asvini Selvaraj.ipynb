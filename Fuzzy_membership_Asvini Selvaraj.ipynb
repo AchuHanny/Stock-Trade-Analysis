{
 "cells": [
  {
   "cell_type": "markdown",
   "metadata": {
    "id": "Vac5ALbw2sXZ"
   },
   "source": [
    "# 23S1-AI6124 Fuzzy Membership Functions Assignment 3\n",
    "Created by A/Prof Kai Keng ANG (kkang@i2r.a-star.edu.sg, kkang@ntu.edu.sg). Last modified 10 Oct 2023\n",
    "\n",
    "Submitted by: Asvini Selvaraj Mat ID: G2303641A"
   ]
  },
  {
   "cell_type": "markdown",
   "metadata": {
    "id": "kV8Vfkxd3Iw6"
   },
   "source": [
    "# Instructions\n",
    "Enter your name according to NTU Learn, and your student ID above. Do not include the square brackets. Please save the file as Fuzzy_membership_[Student name].ipynb and submit in NTU Learn.\n",
    "\n",
    "There are 10 questions in this assignment. Some questions have multiple parts. Marks for each parts are indicated in the questions. Please read the question and hints carefully.\n"
   ]
  },
  {
   "cell_type": "markdown",
   "metadata": {
    "id": "HzZVQ9PC2uFx"
   },
   "source": [
    "## Objective\n",
    "\n",
    "After completing this tutorial assignment, you will know:\n",
    "\n",
    "* What are the different types of membership functions\n",
    "* How to use existing library to create and plot a fuzzy membership function\n",
    "* How to approximate one type of membership function using another type\n",
    "* How to relate python codes to equations of fuzzy membership functions\n",
    "* How to implement and run the Learning Vector Quantization (LVQ) algorithm\n",
    "* How to learn a set of winning vectors (or codebook vectors) using LVQ from a training data set.\n",
    "* How to make predictions using the learned vectors.\n",
    "* How to form fuzzy membership functions using the learned vectors."
   ]
  },
  {
   "cell_type": "markdown",
   "metadata": {
    "id": "CpsdOSzw2y00"
   },
   "source": [
    "## Introduction\n",
    "\n",
    "First we install the Python Fuzzy Logic library\n",
    "\n",
    "This library is based on Octave fuzzy-logic-toolkit of which is based on Matlab R2018b Fuzzy Logic Toolbox functions. However, not all the functions are working according to Matlab implmentation. There are also other toolboxes out there, such as scikit-fuzzy."
   ]
  },
  {
   "cell_type": "code",
   "execution_count": 1,
   "metadata": {
    "colab": {
     "base_uri": "https://localhost:8080/"
    },
    "id": "H-9zu0gJ2pQC",
    "outputId": "7abaf56f-22fd-4d30-adcd-681c9a9a4f5e"
   },
   "outputs": [
    {
     "name": "stdout",
     "output_type": "stream",
     "text": [
      "Requirement already satisfied: fuzzylab in c:\\users\\achu - dhamu\\anaconda3\\lib\\site-packages (0.13)\n"
     ]
    }
   ],
   "source": [
    "!pip install -U fuzzylab"
   ]
  },
  {
   "cell_type": "markdown",
   "metadata": {
    "id": "OWT8IQt83Vuo"
   },
   "source": [
    "Then we import the necessary libraries"
   ]
  },
  {
   "cell_type": "code",
   "execution_count": 1,
   "metadata": {
    "colab": {
     "base_uri": "https://localhost:8080/",
     "height": 384
    },
    "id": "zPwm_YPF3YIo",
    "outputId": "a63c002c-3863-4f76-a30d-1f16fac4789c"
   },
   "outputs": [],
   "source": [
    "import numpy as np\n",
    "import matplotlib.pyplot as plt\n",
    "import fuzzylab as fz\n",
    "from math import sqrt\n",
    "from random import randrange\n",
    "from random import seed"
   ]
  },
  {
   "cell_type": "markdown",
   "metadata": {
    "id": "h6ZO7esXF1rS"
   },
   "source": [
    "Most common fuzzy membership functions are triangular, trapezodal, Gaussian and bell-shaped."
   ]
  },
  {
   "cell_type": "markdown",
   "metadata": {
    "id": "C_md3jXE4_P9"
   },
   "source": [
    "# 1. Triangle  Membership Function\n",
    "\n",
    "## Syntax\n",
    "\n",
    "$y = \\text{trimf$(x,[a, b, c])$}$\n",
    "\n",
    "## Description\n",
    "\n",
    "The triangular membership function of $x$ that depends on 3 parameters $a$, $b$, and $c$, as given by\n",
    "\n",
    "$\\begin{equation} f(x;a,b,c)= \\begin{cases} (x - a)/(b - a), &\\text{for $a < x < b$}\\\\ 1, &\\text{for $x = b$}\\\\ (c - x)/(c - b), &\\text{for $b < x < c$}\\\\ 0, &\\text{otherwise.} \\end{cases} \\end{equation}$\n",
    "\n",
    "$\\text{whereby $a < b < c$}$\n",
    "\n",
    "The parameters $a$ and $c$ define the “feet” of the triangle and the parameter $b$ defines the peak.\n",
    "\n",
    "The following plots a triangular membership function with 3 parameters"
   ]
  },
  {
   "cell_type": "code",
   "execution_count": 61,
   "metadata": {
    "colab": {
     "base_uri": "https://localhost:8080/",
     "height": 449
    },
    "id": "2AcVwVub5Qo6",
    "outputId": "dc278c84-2f7b-4cea-8c8d-780d44b814b7"
   },
   "outputs": [
    {
     "data": {
      "image/png": "[encoded data removed]",
      "text/plain": [
       "<Figure size 432x288 with 1 Axes>"
      ]
     },
     "metadata": {
      "needs_background": "light"
     },
     "output_type": "display_data"
    }
   ],
   "source": [
    "x = np.linspace(0, 20, 101)\n",
    "y = fz.trimf(x, [3, 10, 17])\n",
    "plt.plot(x, y)\n",
    "plt.xlabel('Triangle, P = [3, 10, 17]')\n",
    "plt.show()"
   ]
  },
  {
   "cell_type": "markdown",
   "metadata": {
    "id": "R8ZkmL65Pmzw"
   },
   "source": [
    "# 2. Gaussian Membership Function\n",
    "\n",
    "## Syntax\n",
    "\n",
    "$y = \\text{gaussmf$(x,[a, b])$}$\n",
    "\n",
    "## Description\n",
    "\n",
    "The Gaussian memebership function of $x$ that depends on 2 parameters $a$, $b$, as given by\n",
    "\n",
    "$\\begin{equation} f(x;a,b)= e^\\frac{-(x-b)^2}{2a^2} \\end{equation}$\n",
    "\n",
    "The parameter $a$ defines the width or standard deviation and the parameter $b$ defines the centre or mean.\n"
   ]
  },
  {
   "cell_type": "markdown",
   "metadata": {
    "id": "LT7gWzqL9Q5g"
   },
   "source": [
    "<font color='red'>Question 1(a)</font>: Create a Gaussian membership function similar to the above trianglular membership function centered at 10 using gaussmf. <font color='red'>(0.5 mark)</font>\n"
   ]
  },
  {
   "cell_type": "code",
   "execution_count": 66,
   "metadata": {
    "colab": {
     "base_uri": "https://localhost:8080/",
     "height": 371
    },
    "id": "TsH0GD5P9YZK",
    "outputId": "1c23b7c2-9e40-4a09-9c8d-864493de08db"
   },
   "outputs": [
    {
     "data": {
      "image/png": "[encoded data removed]",
      "text/plain": [
       "<Figure size 432x288 with 1 Axes>"
      ]
     },
     "metadata": {
      "needs_background": "light"
     },
     "output_type": "display_data"
    }
   ],
   "source": [
    "## Enter your code here for Question 1(a). Some codes are included for you. This code does not execute without modification\n",
    "y = fz.gaussmf(x, [3, 10])\n",
    "plt.plot(x, y)\n",
    "plt.xlabel('Gaussian, P = [3, 10]')\n",
    "plt.show()"
   ]
  },
  {
   "cell_type": "markdown",
   "metadata": {
    "id": "FCHerKdXQG8x"
   },
   "source": [
    "# 3. Trapezoidal Membership Function\n",
    "\n",
    "## Syntax\n",
    "\n",
    "$y = \\text{trapmf} (x,[a, b, c, d])$\n",
    "\n",
    "## Description\n",
    "\n",
    "The trapezoidal curve is a function of $x$ that depends on 4 parameters $a$, $b$, $c$, and $d$, as given by\n",
    "\n",
    "$\\begin{equation} f(x;a,b,c,d)= \\begin{cases} (x - a)/(b - a), &\\text{for $a < x < b$}\\\\ 1, &\\text{for $b \\leq x \\leq c$}\\\\ (d - x)/(d - c), &\\text{for $c < x < d$}\\\\ 0, &\\text{otherwise.} \\end{cases} \\end{equation}$\n",
    "\n",
    "$\\text{with $a < b < c < d$}$\n",
    "\n",
    "The parameters $a$ and $d$ define the “feet” of the trapezoid and the parameters $b$ and $c$ define the “shoulders.”\n"
   ]
  },
  {
   "cell_type": "markdown",
   "metadata": {
    "id": "JLafS6eS8sxg"
   },
   "source": [
    "The following creates a trapezoodal membership function with 4 parameters"
   ]
  },
  {
   "cell_type": "code",
   "execution_count": 71,
   "metadata": {
    "colab": {
     "base_uri": "https://localhost:8080/",
     "height": 279
    },
    "id": "eyTSz2a280bf",
    "outputId": "13a942ce-899c-44e3-88b7-36fc485c07f7"
   },
   "outputs": [
    {
     "data": {
      "image/png": "[encoded data removed]",
      "text/plain": [
       "<Figure size 432x288 with 1 Axes>"
      ]
     },
     "metadata": {
      "needs_background": "light"
     },
     "output_type": "display_data"
    }
   ],
   "source": [
    "y = fz.trapmf(x, [3, 6, 10, 18])\n",
    "plt.plot(x, y)\n",
    "plt.xlabel('Trapezoidal, P = [3, 6, 10, 18]')\n",
    "plt.show()"
   ]
  },
  {
   "cell_type": "markdown",
   "metadata": {
    "id": "UjeQOKVGK6CC"
   },
   "source": [
    "<font color='red'>Question 1(b)</font>: Use the function trapmf to plot a triangle membership function the same as section 1 above. <font color='red'>(0.5 mark)</font>"
   ]
  },
  {
   "cell_type": "code",
   "execution_count": 72,
   "metadata": {
    "colab": {
     "base_uri": "https://localhost:8080/",
     "height": 279
    },
    "id": "S5QRxxeaLQAt",
    "outputId": "001be4bc-f196-4a24-a69b-f2f87701afcc"
   },
   "outputs": [
    {
     "data": {
      "image/png": "[encoded data removed]",
      "text/plain": [
       "<Figure size 432x288 with 1 Axes>"
      ]
     },
     "metadata": {
      "needs_background": "light"
     },
     "output_type": "display_data"
    }
   ],
   "source": [
    "# Modify the code here for Question 1(b). The original code here is not correct\n",
    "y = fz.trimf(x, [3, 10, 17])\n",
    "plt.plot(x, y)\n",
    "plt.xlabel('trimf, P = [3, 10, 17]')\n",
    "plt.show()"
   ]
  },
  {
   "cell_type": "code",
   "execution_count": 73,
   "metadata": {},
   "outputs": [
    {
     "data": {
      "image/png": "[encoded data removed]",
      "text/plain": [
       "<Figure size 432x288 with 1 Axes>"
      ]
     },
     "metadata": {
      "needs_background": "light"
     },
     "output_type": "display_data"
    }
   ],
   "source": [
    "#1b Solution\n",
    "y = fz.trapmf(x, [3, 10, 10, 17])\n",
    "plt.plot(x, y)\n",
    "plt.xlabel('Trapezoidal, P = [3, 10, 10, 17]')\n",
    "plt.show()"
   ]
  },
  {
   "cell_type": "markdown",
   "metadata": {
    "id": "SLk0RAkBWovU"
   },
   "source": [
    "# 4. Generalized Bell-shape Membership function\n",
    "\n",
    "## Syntax\n",
    "\n",
    "$y = \\text{gbellmf} (x,[a, b, c])$\n",
    "\n",
    "## Description\n",
    "\n",
    "The generalized bell-shaped membership function of $x$ that depends on 3 parameters $a$, $b$ and $c$ as given by\n",
    "\n",
    "$\\begin{equation} f(x;a,b,c) = \\frac{1}{1 + |\\frac{x-c}{a}|^{2b}} \\end{equation}$\n",
    "\n",
    "- a controls the width of the bell.\n",
    "- b controls the gradient of the bell's slopes.\n",
    "- c controls the center value of the bell"
   ]
  },
  {
   "cell_type": "markdown",
   "metadata": {
    "id": "l1FXNOuwYtrY"
   },
   "source": [
    "<font color='red'>Question 2</font>: Give the code to plot a generalized bell-shape membership function similar to the above trapezoidal membership function in 3. You can refer to the code after question 3 for some hints on similar membership functions of different types. <font color='red'>(1 mark)</font>\n"
   ]
  },
  {
   "cell_type": "code",
   "execution_count": 92,
   "metadata": {
    "colab": {
     "base_uri": "https://localhost:8080/",
     "height": 244
    },
    "id": "dRzwMrFIM911",
    "outputId": "d0ed5c88-0629-4fd3-9352-953afbf130eb"
   },
   "outputs": [
    {
     "data": {
      "image/png": "[encoded data removed]",
      "text/plain": [
       "<Figure size 432x288 with 1 Axes>"
      ]
     },
     "metadata": {
      "needs_background": "light"
     },
     "output_type": "display_data"
    }
   ],
   "source": [
    "## Enter your code here for Question 2. Some codes are included for you. This code does not execute without modification\n",
    "y = fz.gbellmf(x, [4, 2, 8.5])\n",
    "plt.plot(x, y)\n",
    "plt.xlabel('Generalized bell-shape, P = [4, 2, 8.5]')\n",
    "plt.show()"
   ]
  },
  {
   "cell_type": "markdown",
   "metadata": {
    "id": "aluqPBUybBp1"
   },
   "source": [
    "# 5. Bell-shape Membership functions\n",
    "\n",
    "## Syntax\n",
    "\n",
    "$y = \\text{bellmf} (x,[a, b, c, d])$\n",
    "\n",
    "## Description\n",
    "\n",
    "The generalized bell-shaped membership function of $x$ that depends on 4 parameters $a$, $b$, $c$ and $d$ as given by\n",
    "\n",
    "$\\begin{equation} f(x;a,b,c)= \\begin{cases} \\frac{1}{1+\\left\\lvert \\frac{x-c}{a} \\right\\rvert ^{2b}}, &\\text{for $x < c$} \\\\ \\frac{1}{1+\\left\\lvert \\frac{x-c}{a} \\right\\rvert ^{2d}}, &\\text{for $x \\geq c$} \\end{cases} \\end{equation}$\n",
    "\n",
    "- a controls the width of the bell.\n",
    "- b controls the gradient of the bell's left slope.\n",
    "- <font color='blue'>c</font> controls the midpoint of the bell.\n",
    "- d controls the gradient of the bell's right slope."
   ]
  },
  {
   "cell_type": "markdown",
   "metadata": {
    "id": "U6b81AIDaqLP"
   },
   "source": [
    "<font color='red'>Question 3</font>: bellmf function is not implemented in the Python Fuzzy Logic Library. Implement the function below. Hint: Look at gbellmf and trapmf implementation. Do not copy python code from elsewhere. <font color='red'>(1 mark)</font>"
   ]
  },
  {
   "cell_type": "code",
   "execution_count": 8,
   "metadata": {
    "id": "iT1cWHMFapaV"
   },
   "outputs": [],
   "source": [
    "# Enter code for question 3 here\n",
    "def bellmf(x, params):\n",
    "\n",
    "    assert len(params) == 4, 'Generalized membership function must have four parameters.'\n",
    "    a,b,c,d = params\n",
    "    result = np.where(x < c, 1/(1 + (abs((x-c)/a)**(2*b))), 1/(1 + (abs((x-c)/a)**(2*d))))\n",
    "    return result\n"
   ]
  },
  {
   "cell_type": "markdown",
   "metadata": {
    "id": "T7tP8zyicnpi"
   },
   "source": [
    "Now that you implemented the bellmf, we can plot a generalized bell-shape membership function similar to the above trapezoidal membership function in section 3. We can also plot the trapezoidal membership function overlapped with the bell-shape membership function in the same graph. This plot serves as a hint to question 2.\n"
   ]
  },
  {
   "cell_type": "code",
   "execution_count": 93,
   "metadata": {
    "colab": {
     "base_uri": "https://localhost:8080/",
     "height": 279
    },
    "id": "WXb5oPgxdof2",
    "outputId": "cabb8c26-7dcc-4e8c-e97b-0b6a2f3675fc"
   },
   "outputs": [
    {
     "data": {
      "image/png": "[encoded data removed]",
      "text/plain": [
       "<Figure size 432x288 with 1 Axes>"
      ]
     },
     "metadata": {
      "needs_background": "light"
     },
     "output_type": "display_data"
    }
   ],
   "source": [
    "# This code will only run correctly if Question 3 above is answered correctly\n",
    "y = bellmf(x, [4.5, 4, 9, 1.5])\n",
    "plt.plot(x, y)\n",
    "y = fz.trapmf(x, [3, 6, 10, 18])\n",
    "plt.plot(x, y)\n",
    "plt.xlabel('bellmf: P = [4.5, 4, 9, 1.5] vs trapmf: P = [3, 6, 10, 18]')\n",
    "plt.show()"
   ]
  },
  {
   "cell_type": "markdown",
   "metadata": {
    "id": "urEwX7xknxWk"
   },
   "source": [
    "## 6. Storing Membership function type and parameters\n",
    "\n",
    "We need a way to store the type of membership functions, the parameters, and a generic function to evaluate memership function. Unfortunately the fismf class in Python Fuzzy Logic library is not working well, probably coded for an older version of Python. So we have to fix the class definition."
   ]
  },
  {
   "cell_type": "code",
   "execution_count": 95,
   "metadata": {
    "id": "kULjKcD1n9Oa"
   },
   "outputs": [],
   "source": [
    "# This class replaces the fismf function in the Python Fuzzy Logic Library.\n",
    "# This way of coding is highly not recommended, as the attributes of the class is not defined.\n",
    "class fismf(object):\n",
    "    def __init__(self, **attrs):\n",
    "        self.__dict__.update(**attrs)\n",
    "    def __getattr__(self, attr):\n",
    "        return self.__dict__.get(attr, None)"
   ]
  },
  {
   "cell_type": "markdown",
   "metadata": {
    "id": "yIERGCWLobPQ"
   },
   "source": [
    "The following code initializes a trapezoidal membership function with parameters, and plots it."
   ]
  },
  {
   "cell_type": "code",
   "execution_count": 96,
   "metadata": {
    "colab": {
     "base_uri": "https://localhost:8080/",
     "height": 283
    },
    "id": "BdClD003ohTB",
    "outputId": "eb59f31e-9b1a-4b7f-822c-a0e09864c338"
   },
   "outputs": [
    {
     "data": {
      "text/plain": [
       "[<matplotlib.lines.Line2D at 0x1efbacf42e0>]"
      ]
     },
     "execution_count": 96,
     "metadata": {},
     "output_type": "execute_result"
    },
    {
     "data": {
      "image/png": "[encoded data removed]",
      "text/plain": [
       "<Figure size 432x288 with 1 Axes>"
      ]
     },
     "metadata": {
      "needs_background": "light"
     },
     "output_type": "display_data"
    }
   ],
   "source": [
    "mymf = fismf(Type = 'trapmf', Parameters = [3, 6, 10, 18])\n",
    "plt.plot(x, fz.evalmf.evalmf(mymf, x))"
   ]
  },
  {
   "cell_type": "markdown",
   "metadata": {
    "id": "_YZy5JUAqEuE"
   },
   "source": [
    "<font color='red'>Question 4(a)</font>: Given a value z=4, find the Fuzzy Membership function value from mymf. <font color='red'>(0.5 mark)</font>"
   ]
  },
  {
   "cell_type": "code",
   "execution_count": 97,
   "metadata": {
    "colab": {
     "base_uri": "https://localhost:8080/",
     "height": 134
    },
    "id": "pkq7TAt_qSoO",
    "outputId": "50c8afe9-d598-448e-b133-00d8f263220a"
   },
   "outputs": [
    {
     "name": "stdout",
     "output_type": "stream",
     "text": [
      "[0.33333333]\n"
     ]
    }
   ],
   "source": [
    "# Enter Code for Question 4(a) here. Code does not run without modification\n",
    "z = 4\n",
    "uz = fz.evalmf.evalmf(mymf, z)\n",
    "print(uz)"
   ]
  },
  {
   "cell_type": "markdown",
   "metadata": {
    "id": "Tw_5dhTKrecL"
   },
   "source": [
    "<font color='red'>Question 4(b)</font>: Now change mf to another type of membership function with different parameters and plot the membership function. <font color='red'>(0.5 mark)</font>"
   ]
  },
  {
   "cell_type": "code",
   "execution_count": 98,
   "metadata": {
    "id": "jiJSlOjvrnIQ"
   },
   "outputs": [
    {
     "name": "stdout",
     "output_type": "stream",
     "text": [
      "[0.14285714]\n"
     ]
    },
    {
     "data": {
      "image/png": "[encoded data removed]",
      "text/plain": [
       "<Figure size 432x288 with 1 Axes>"
      ]
     },
     "metadata": {
      "needs_background": "light"
     },
     "output_type": "display_data"
    }
   ],
   "source": [
    "# Enter code for question 4(b) here. No code provided for you\n",
    "mymf = fismf(Type = 'trimf', Parameters = [3, 10, 17])\n",
    "plt.plot(x, fz.evalmf.evalmf(mymf, x))\n",
    "z = 4\n",
    "uz = fz.evalmf.evalmf(mymf, z)\n",
    "print(uz)"
   ]
  },
  {
   "cell_type": "markdown",
   "metadata": {
    "id": "JRxtjNXx5t6H"
   },
   "source": [
    "## 7. Learning Vector Quantization (LVQ) algorithm\n",
    "\n",
    "The Learning Vector Quantization (LVQ) algorithm is a lot like k-Nearest Neighbors. k-Nearest Neighbors need to keep a large database of training examples in order to make predictions. The LVQ  algorithm addresses uses a much smaller subset of patterns to represent the training data. These are called codebooks. We need to compute distances between the codebooks and the examples.\n",
    "\n",
    "Thus we needed is a function to calculate the distance between two samples or rows in a dataset.\n",
    "\n",
    "Rows of data are mostly made up of numbers and an easy way to calculate the distance between two rows or vectors of numbers is using the Euclidean distance measure.\n",
    "\n",
    "The equation of Euclidean distance between vectors *x* and *y* with length *n* is defined as\n",
    "\n",
    "\\begin{equation*}\n",
    "\\sqrt{\\sum_{k=1}^n (x_k - y_k)^2}\n",
    "\\end{equation*}\n",
    "\n",
    "In other words, Euclidean distance is the square root of the sum of the squared differences between the two vectors.\n"
   ]
  },
  {
   "cell_type": "code",
   "execution_count": 14,
   "metadata": {
    "id": "sTogFP8O2La5"
   },
   "outputs": [],
   "source": [
    "# A function to calculate the Euclidean distance between two vectors\n",
    "def euclidean_distance2(x1, x2):\n",
    "    dist = 0.0\n",
    "    for i in range(len(x1)-1):\n",
    "        dist = dist + (x1[i] - x2[i])**2\n",
    "    return sqrt(dist)\n",
    "\n",
    "# A more effective way\n",
    "def euclidean_distance(x1,x2):\n",
    "    return np.sqrt(np.sum((x1-x2)**2))"
   ]
  },
  {
   "cell_type": "markdown",
   "metadata": {
    "id": "M4vt4dj32La_"
   },
   "source": [
    "Now create some dataset to look at euclidean distance"
   ]
  },
  {
   "cell_type": "code",
   "execution_count": 21,
   "metadata": {
    "colab": {
     "base_uri": "https://localhost:8080/",
     "height": 360
    },
    "id": "9za3BvNH2LbA",
    "outputId": "942e7dc8-6db1-4d5b-8943-9df1d2fd48ba"
   },
   "outputs": [
    {
     "name": "stdout",
     "output_type": "stream",
     "text": [
      "Sample 1: [-0.00566939 -0.12003061]\n",
      "Sample 2: [2.54640505 1.49156368]\n",
      "Sample 11: [-1.50109281 -0.93110408]\n",
      "Sample 12: [-1.95734458 -2.46650992]\n"
     ]
    },
    {
     "data": {
      "text/plain": [
       "<matplotlib.collections.PathCollection at 0x1efb9e3af70>"
      ]
     },
     "execution_count": 21,
     "metadata": {},
     "output_type": "execute_result"
    },
    {
     "data": {
      "image/png": "[encoded data removed]",
      "text/plain": [
       "<Figure size 432x288 with 1 Axes>"
      ]
     },
     "metadata": {
      "needs_background": "light"
     },
     "output_type": "display_data"
    }
   ],
   "source": [
    "dataset = np.random.randn(20,2)\n",
    "dataset[1:10]+=(+2)\n",
    "dataset[10:20]+=(-2)\n",
    "print(\"Sample 1:\",dataset[0])\n",
    "print(\"Sample 2:\",dataset[1])\n",
    "print(\"Sample 11:\",dataset[10])\n",
    "print(\"Sample 12:\",dataset[11])\n",
    "plt.scatter(dataset[:,0], dataset[:,1])"
   ]
  },
  {
   "cell_type": "markdown",
   "metadata": {
    "id": "tfs9-i042LbE"
   },
   "source": [
    "Compute the euclidean distance between Sample 1 and Sample 2"
   ]
  },
  {
   "cell_type": "code",
   "execution_count": 22,
   "metadata": {
    "colab": {
     "base_uri": "https://localhost:8080/"
    },
    "id": "tgW3H4al2LbF",
    "outputId": "4b5221a7-d887-458f-99f5-4243743c5757"
   },
   "outputs": [
    {
     "name": "stdout",
     "output_type": "stream",
     "text": [
      "Distance 1: 2.5520744386103007\n"
     ]
    }
   ],
   "source": [
    "dist1 = euclidean_distance2(dataset[0],dataset[1])\n",
    "print(\"Distance 1:\",dist1)"
   ]
  },
  {
   "cell_type": "code",
   "execution_count": 23,
   "metadata": {
    "colab": {
     "base_uri": "https://localhost:8080/"
    },
    "id": "lXQP9MEa2LbH",
    "outputId": "f8d7e914-6cb1-4a1f-bef5-01f617725146"
   },
   "outputs": [
    {
     "name": "stdout",
     "output_type": "stream",
     "text": [
      "Distance 2: 3.0183306789540425\n"
     ]
    }
   ],
   "source": [
    "dist2 = euclidean_distance(dataset[0],dataset[1])\n",
    "print(\"Distance 2:\",dist2)"
   ]
  },
  {
   "cell_type": "markdown",
   "metadata": {
    "id": "1ehf6vkS2LbL"
   },
   "source": [
    "<font color='red'>Question 5(a)</font>: The results are not the same. Which function: euclidean_distance or euclidean_distance2 is wrong? Fix the function that is wrong below. <font color='red'>(0.5 mark)</font>"
   ]
  },
  {
   "cell_type": "code",
   "execution_count": 24,
   "metadata": {
    "id": "WoDxU5acHi8o"
   },
   "outputs": [
    {
     "name": "stdout",
     "output_type": "stream",
     "text": [
      "Distance 1: 3.0183306789540425\n"
     ]
    }
   ],
   "source": [
    "# Enter code for question 6 here\n",
    "#Solution : The function Euclidean_distance_2 is wrong as it doesnt loop through the entire dataset \n",
    "#due to the reason (len(x1)-1)\n",
    "def euclidean_distance2(x1, x2):\n",
    "    dist = 0.0\n",
    "    for i in range(len(x1)):\n",
    "        dist = dist + (x1[i] - x2[i])**2\n",
    "    return sqrt(dist)\n",
    "\n",
    "dist = euclidean_distance2(dataset[0],dataset[1])\n",
    "print(\"Distance 1:\",dist)"
   ]
  },
  {
   "cell_type": "markdown",
   "metadata": {
    "id": "EwdVJs4i2LbM"
   },
   "source": [
    "## 8. Find the Winner\n",
    "The Winner weight, or so called the winning codebook, also called Best Matching Vector, is the weight or codebook that is most similar to a new piece of data.\n",
    "\n",
    "To identify the Winner for a new piece of data within a dataset we must first calculate the distance between each weight or codebook to the new piece of data. We can do this using our distance function above.\n",
    "\n",
    "Once distances are calculated, we must sort all of the weights or codebooks by their distance to the new data. We can then return most similar weight or codebook vector with the smallest distance to the new data.\n",
    "\n",
    "We can do this by keeping track of the distance for each record in the dataset as a tuple, sort the list of tuples by the distance (in descending order) and then retrieve the winner.\n",
    "\n",
    "Below is a function named get_best_matching_unit() that implements this."
   ]
  },
  {
   "cell_type": "code",
   "execution_count": 25,
   "metadata": {
    "id": "fOYn3hua2LbM"
   },
   "outputs": [],
   "source": [
    "# Locate the best matching unit\n",
    "def find_winner(weights, test_sample):\n",
    "    distances = list()\n",
    "    for weight_index, weight in enumerate(weights):\n",
    "        dist = euclidean_distance(weight, test_sample)\n",
    "        distances.append((weight_index, dist))\n",
    "    distances.sort(key=lambda tuple: tuple[1])\n",
    "    return distances[0][0]"
   ]
  },
  {
   "cell_type": "markdown",
   "metadata": {
    "id": "4n-c8jAo2LbS"
   },
   "source": [
    "The euclidean_distance() function in section 1 is used to calculate the distance between each weight or codebook with the new test_sample.\n",
    "\n",
    "The list of codebook vectors and distance tuples is sorted where a custom key is used ensuring that the second item in the tuple (tuple[1]) is used in the sorting operation.\n",
    "\n",
    "Finally, the most similar weight or codebook vector is returned as the winner.\n",
    "\n",
    "We can test this function with the small dataset prepared in section 1."
   ]
  },
  {
   "cell_type": "code",
   "execution_count": 26,
   "metadata": {
    "colab": {
     "base_uri": "https://localhost:8080/"
    },
    "id": "EItNnFAq2LbT",
    "outputId": "b6d14282-a549-4d18-c53f-daf34f34a300"
   },
   "outputs": [
    {
     "name": "stdout",
     "output_type": "stream",
     "text": [
      "Winner : 0\n",
      "Winner : 1\n"
     ]
    }
   ],
   "source": [
    "winner=find_winner([dataset[i] for i in [0,10]],dataset[0])\n",
    "print(\"Winner :\",winner)\n",
    "winner=find_winner([dataset[i] for i in [0,10]],dataset[10])\n",
    "print(\"Winner :\",winner)"
   ]
  },
  {
   "cell_type": "markdown",
   "metadata": {
    "id": "GdutOKBC2LbW"
   },
   "source": [
    "<font color='red'>Question 5(b)</font>: How many weights or codebooks were passed to the function find_winner? <font color='red'>(0.25 mark)</font>"
   ]
  },
  {
   "cell_type": "markdown",
   "metadata": {
    "id": "NjZxCpf-JsqM"
   },
   "source": [
    "Enter answer to Question 5(b) here.\n",
    "Two codebooks (weights) were passed to the function find_winner -dataset[0] and dataset [10]"
   ]
  },
  {
   "cell_type": "markdown",
   "metadata": {
    "id": "WT4-6dsVJwb0"
   },
   "source": [
    "<font color='red'>Question 5(c)</font>: How many test samples were passed to the function find_winner? <font color='red'>(0.25 mark)</font>"
   ]
  },
  {
   "cell_type": "markdown",
   "metadata": {
    "id": "kRrAtZ2WJ4G7"
   },
   "source": [
    "Enter answer to Question 5(c) here.\n",
    "One test sample (the second argument, i.e., dataset[0] and dataset[10]) was passed to the function find_winner."
   ]
  },
  {
   "cell_type": "markdown",
   "metadata": {
    "id": "RJ_D9CZ32LbW"
   },
   "source": [
    "## 9. Initialize LVQ Weight Vectors\n",
    "\n",
    "Before we train a set of weights or codebook vectors, we have to initialize the weights.\n",
    "\n",
    "We can initialize it with patterns constructed from random features in the training dataset. This is one way to initialize it. Another way is to randomize the weights to a certain range of the input dataset instead of using one of the samples. There are advantages and disadvantages to different ways of initializing the weights.\n",
    "\n",
    "Below is a function named random_weight() that picks a random sample from the training data."
   ]
  },
  {
   "cell_type": "code",
   "execution_count": 27,
   "metadata": {
    "id": "E-hlGRxP2LbX"
   },
   "outputs": [],
   "source": [
    "# Assign a random codebook vector from the training data\n",
    "def random_weight(traindata):\n",
    "    n_records = len(traindata)\n",
    "    weight = traindata[randrange(n_records)]\n",
    "    return weight"
   ]
  },
  {
   "cell_type": "markdown",
   "metadata": {
    "id": "fnAxve_92Lba"
   },
   "source": [
    "We can test this function with the small dataset prepared in section 1."
   ]
  },
  {
   "cell_type": "code",
   "execution_count": 28,
   "metadata": {
    "colab": {
     "base_uri": "https://localhost:8080/",
     "height": 33
    },
    "id": "h3Fevm912Lba",
    "outputId": "d5d596f9-f0c9-4027-daff-145a4a6f1aee"
   },
   "outputs": [
    {
     "name": "stdout",
     "output_type": "stream",
     "text": [
      "Weight: [2.47431434 1.94693206]\n"
     ]
    }
   ],
   "source": [
    "weight=random_weight(dataset)\n",
    "\n",
    "print(\"Weight:\",weight)"
   ]
  },
  {
   "cell_type": "code",
   "execution_count": 29,
   "metadata": {},
   "outputs": [
    {
     "name": "stdout",
     "output_type": "stream",
     "text": [
      "dataset 0:[-0.00566939 -0.12003061]\n",
      "dataset 1:[2.54640505 1.49156368]\n",
      "dataset 2:[3.38488557 1.32492041]\n",
      "dataset 3:[2.86108713 1.08659367]\n",
      "dataset 4:[2.68372652 2.16105044]\n",
      "dataset 5:[3.06683428 2.42869399]\n",
      "dataset 6:[1.10628986 1.91528725]\n",
      "dataset 7:[2.47431434 1.94693206]\n",
      "dataset 8:[1.45160418 2.2353513 ]\n",
      "dataset 9:[1.67468359 3.29747156]\n",
      "dataset 10:[-1.50109281 -0.93110408]\n",
      "dataset 11:[-1.95734458 -2.46650992]\n",
      "dataset 12:[-3.89692131 -2.12955241]\n",
      "dataset 13:[-1.53314828 -1.25327108]\n",
      "dataset 14:[-2.3213875  -2.02685627]\n",
      "dataset 15:[-1.58145332 -1.21856044]\n",
      "dataset 16:[-4.17584436 -1.73792642]\n",
      "dataset 17:[-0.84082143 -3.45594934]\n",
      "dataset 18:[-3.30559263 -2.53066367]\n",
      "dataset 19:[-1.98128027 -2.64617786]\n"
     ]
    }
   ],
   "source": [
    "# Print the datasets \n",
    "for i in range(len(dataset)):\n",
    "    print(f'dataset {i}:{dataset[i]}')"
   ]
  },
  {
   "cell_type": "code",
   "execution_count": 30,
   "metadata": {},
   "outputs": [
    {
     "name": "stdout",
     "output_type": "stream",
     "text": [
      "The selected sample is at index 7: [2.47431434 1.94693206]\n"
     ]
    }
   ],
   "source": [
    "## For question 6(a)\n",
    "import numpy as np\n",
    "\n",
    "# Given random weights\n",
    "random_weights = weight\n",
    "\n",
    "# Calculate the squared Euclidean distance between the random_weights and all datasets\n",
    "distances = np.sum((dataset - random_weights) ** 2, axis=1)\n",
    "\n",
    "# Find the index of the dataset with the smallest distance\n",
    "selected_sample_index = np.argmin(distances)\n",
    "\n",
    "# Print the index of the selected sample\n",
    "print(f\"The selected sample is at index {selected_sample_index}: {dataset[selected_sample_index]}\")"
   ]
  },
  {
   "cell_type": "markdown",
   "metadata": {
    "id": "Sa1z_8mU2Lbf"
   },
   "source": [
    "<font color='red'>Question 6(a)</font>: Which sample is selected as the weight? Give the index of the sample selected. <font color='red'>(0.5 mark)</font>"
   ]
  },
  {
   "cell_type": "markdown",
   "metadata": {
    "id": "IdUQ2C67Kuug"
   },
   "source": [
    "Enter answer to Question 6(a) here. The selected sample is at index 18: [-3.30559263 -2.53066367]"
   ]
  },
  {
   "cell_type": "markdown",
   "metadata": {
    "id": "5tyxZUy-TDq0"
   },
   "source": [
    "<font color='red'>Question 6(b)</font>: If you run again, what happens? <font color='red'>(0.5 mark)</font>"
   ]
  },
  {
   "cell_type": "markdown",
   "metadata": {
    "id": "RMjTHLIuTG_C"
   },
   "source": [
    "Enter answer to Question 6(b) here. When i executed the weight code again, it generated a new number as the weight takes in random weight from the dataset. Now the weight taken is [2.47431434 1.94693206] at index 7"
   ]
  },
  {
   "cell_type": "markdown",
   "metadata": {
    "id": "gbjTfTh52Lbg"
   },
   "source": [
    "## 10. Training LVQ Weight Vectors\n",
    "\n",
    "After the weights are initialized to a random set, they have to be trained using the training data. This is done iteratively.\n",
    "\n",
    "The training process is repeated for a fixed number of epochs, or so called exposures of the training data. In an epoch, each training sample is used to update the set of weight or codebook vectors.\n",
    "\n",
    "For a training pattern, a winner vector is updated to move it closer or further away. A winner is found for each training pattern and only this winner is updated. The difference between the training pattern and the winner is calculated as the error.\n",
    "\n",
    "The amount that the winner is adjusted is controlled by a learning rate. This is the amount of change made to the winner. For example, a learning rate of 0.3 means that the winner are only moved by 30% of the error or difference between the training data and the winner.\n",
    "\n",
    "The learning rate is also adjusted so that it has maximum effect in the first epoch and the effect lessen as training continues until it has a minimal effect in the final epoch. This is called a linear decay learning rate commonly used in artificial neural networks.\n",
    "\n",
    "Below is a function named train_weights() that implements the procedure for training a set of weight vectors given a training dataset.\n",
    "\n",
    "The function takes 3 additional arguments to the training dataset, the number of weights or codebook vectors to create and train, the initial learning rate and the number of epochs.\n",
    "\n",
    "The function keeps track of the sum squared error each epoch and prints a message showing the epoch number, effective learning rate and sum squared error score. This is helpful when debugging the training function or the specific configuration for a given prediction problem. The random_weight function is used to initialize the codebook vectors and the find_winner function is used to find the winner for each training pattern within an epoch.\n"
   ]
  },
  {
   "cell_type": "code",
   "execution_count": 31,
   "metadata": {
    "id": "OaqnyCwT2Lbi"
   },
   "outputs": [],
   "source": [
    "# Train a set of codebook vectors\n",
    "def train_LVQ(traindata, weights, lrate, epochs):\n",
    "    print(\"Weights:\",weights)\n",
    "    for epoch in range(epochs):\n",
    "        rate = lrate * (1.0-(epoch/float(epochs)))\n",
    "        sum_error = 0.0\n",
    "        for row in traindata:\n",
    "            winner_index = find_winner(weights, row)\n",
    "            #print(\"Winner:\",winner)\n",
    "            error = (row - weights[winner_index])\n",
    "            sum_error = sum_error + sqrt(sum(error**2))\n",
    "            # This line has an error in changing the original dataset\n",
    "            # weights[winner_index] += rate * error\n",
    "            weights[winner_index] = weights[winner_index] + rate * error\n",
    "            #print(\"Winner:\",winner)\n",
    "        print('>epoch=%d, lrate=%.3f, error=%.3f' % (epoch, rate, sum_error))\n",
    "    return weights\n"
   ]
  },
  {
   "cell_type": "markdown",
   "metadata": {
    "id": "a03PlRpq2Lbm"
   },
   "source": [
    "Run this to train a set of 2 weight vectors for 20 epochs with an initial learning rate of 0.3. The details are printed each epoch and the set of 2 codebook vectors learned from the training data is displayed.\n",
    "\n",
    "We can see that the changes to learning rate meet our expectations explored above for each epoch. We can also see that the sum squared error each epoch does continue to drop at the end of training and that there may be an opportunity to tune the example further to achieve less error"
   ]
  },
  {
   "cell_type": "code",
   "execution_count": 32,
   "metadata": {
    "colab": {
     "base_uri": "https://localhost:8080/",
     "height": 483
    },
    "id": "IZcalHDb2Lbn",
    "outputId": "4165cb49-7fc2-46ca-e672-571ac8e00fa2"
   },
   "outputs": [
    {
     "name": "stdout",
     "output_type": "stream",
     "text": [
      "Initial weights: [array([-1.53314828, -1.25327108]), array([-1.98128027, -2.64617786])]\n",
      "Weights: [array([-1.53314828, -1.25327108]), array([-1.98128027, -2.64617786])]\n",
      ">epoch=0, lrate=0.300, error=33.108\n",
      ">epoch=1, lrate=0.270, error=25.658\n",
      ">epoch=2, lrate=0.240, error=25.360\n",
      ">epoch=3, lrate=0.210, error=25.083\n",
      ">epoch=4, lrate=0.180, error=24.798\n",
      ">epoch=5, lrate=0.150, error=24.500\n",
      ">epoch=6, lrate=0.120, error=24.191\n",
      ">epoch=7, lrate=0.090, error=23.883\n",
      ">epoch=8, lrate=0.060, error=23.567\n",
      ">epoch=9, lrate=0.030, error=23.234\n",
      "Weights: [array([2.10345706, 1.9259503 ]), array([-2.32620984, -2.12608123])]\n"
     ]
    },
    {
     "data": {
      "image/png": "[encoded data removed]",
      "text/plain": [
       "<Figure size 432x288 with 1 Axes>"
      ]
     },
     "metadata": {
      "needs_background": "light"
     },
     "output_type": "display_data"
    }
   ],
   "source": [
    "n_weights = 2\n",
    "weights = [random_weight(dataset) for i in range(n_weights)]\n",
    "seed(1)\n",
    "learn_rate = 0.3\n",
    "n_epochs = 10\n",
    "print(\"Initial weights:\",weights)\n",
    "weights = train_LVQ(dataset, weights, learn_rate, n_epochs)\n",
    "print(\"Weights:\",weights)\n",
    "nweights=np.array(weights)\n",
    "area = np.pi*3\n",
    "plt.scatter(dataset[:,0], dataset[:,1],area,c=\"blue\",label=\"Data\")\n",
    "plt.scatter(nweights[:,0], nweights[:,1],area,c=\"red\",label=\"Weights\")\n",
    "plt.legend(loc=2)\n",
    "plt.show()"
   ]
  },
  {
   "cell_type": "markdown",
   "metadata": {
    "id": "QpzS1ou12Lbr"
   },
   "source": [
    "Now what happens if we change the random initialization of weights"
   ]
  },
  {
   "cell_type": "code",
   "execution_count": 33,
   "metadata": {
    "colab": {
     "base_uri": "https://localhost:8080/",
     "height": 483
    },
    "id": "BkkPkezc2Lbr",
    "outputId": "bbfd8eb3-730d-43a3-cda0-e7e7235a0536"
   },
   "outputs": [
    {
     "name": "stdout",
     "output_type": "stream",
     "text": [
      "Initial weights: [array([-0.00566939, -0.12003061]), array([2.54640505, 1.49156368])]\n",
      "Weights: [array([-0.00566939, -0.12003061]), array([2.54640505, 1.49156368])]\n",
      ">epoch=0, lrate=0.300, error=23.275\n",
      ">epoch=1, lrate=0.270, error=24.752\n",
      ">epoch=2, lrate=0.240, error=25.328\n",
      ">epoch=3, lrate=0.210, error=25.080\n",
      ">epoch=4, lrate=0.180, error=24.797\n",
      ">epoch=5, lrate=0.150, error=24.500\n",
      ">epoch=6, lrate=0.120, error=24.191\n",
      ">epoch=7, lrate=0.090, error=23.883\n",
      ">epoch=8, lrate=0.060, error=23.567\n",
      ">epoch=9, lrate=0.030, error=23.234\n",
      "Weights: [array([-2.32620963, -2.12608102]), array([2.10345733, 1.92595061])]\n"
     ]
    },
    {
     "data": {
      "image/png": "[encoded data removed]",
      "text/plain": [
       "<Figure size 432x288 with 1 Axes>"
      ]
     },
     "metadata": {
      "needs_background": "light"
     },
     "output_type": "display_data"
    }
   ],
   "source": [
    "weights = [dataset[i] for i in [0,1]]\n",
    "print(\"Initial weights:\",weights)\n",
    "weights = train_LVQ(dataset, weights, learn_rate, n_epochs)\n",
    "print(\"Weights:\",weights)\n",
    "nweights=np.array(weights)\n",
    "area = np.pi*3\n",
    "plt.scatter(dataset[:,0], dataset[:,1],area,c=\"blue\",label=\"Data\")\n",
    "plt.scatter(nweights[:,0], nweights[:,1],area,c=\"red\",label=\"Weights\")\n",
    "plt.legend(loc=2)\n",
    "plt.show()"
   ]
  },
  {
   "cell_type": "markdown",
   "metadata": {
    "id": "s9Dv5RPA2Lbu"
   },
   "source": [
    "<font color='red'>Question 7(a)</font>: What does the initialization of weights impact the LVQ algorithm? <font color='red'>(0.5 mark)</font>"
   ]
  },
  {
   "cell_type": "markdown",
   "metadata": {
    "id": "yOX96VsOUg9e"
   },
   "source": [
    "Enter answer to Question 7(a) here\n",
    "\n",
    "The first set of \"weights\" can be thought of as the \"center\" of the training neighborhoods. There will be less error at the start if the starting weights clearly divide the neighborhoods. This means that it will take fewer epochs to find the final weights. But if the starting weights are chosen very close to each other and to the corner of the map, the initial error will be very high, and it will take more epochs to find the final weights. If there aren't enough epochs, the final weights might not converge at all."
   ]
  },
  {
   "cell_type": "markdown",
   "metadata": {
    "id": "Cv7SLbcmU1_F"
   },
   "source": [
    "<font color='red'>Question 7(b)</font>: What other parameters also affect the LVQ algorithm? Show with code. <font color='red'>(0.5 mark)</font>"
   ]
  },
  {
   "cell_type": "markdown",
   "metadata": {
    "id": "f_kEtQ8jVLuV"
   },
   "source": [
    "Enter answer to Question 7(b) here\n",
    "\n",
    "In addition to the initialization of weights, there are several other parameters that can affect the performance of the LVQ algorithm. These parameters include the learning rate, the number of prototypes, the neighborhood size, and the stopping criteria.\n",
    "\n",
    "The learning rate determines the step size at which the prototypes are adjusted during the learning process. A higher learning rate can lead to faster convergence but may also result in overshooting and instability, while a lower learning rate can lead to slower convergence but more stable results.\n",
    "\n",
    "The number of prototypes refers to the number of representative vectors used to classify the input data. Increasing the number of prototypes can improve the accuracy of the algorithm but may also increase computational complexity.\n",
    "\n",
    "\n",
    "The neighborhood size determines the influence of neighboring prototypes during the learning process. A larger neighborhood size allows for more prototypes to contribute to the classification decision, potentially improving the algorithm's ability to handle complex data distributions.\n",
    "\n",
    "\n",
    "The stopping criteria determine when the learning process should be terminated. This can be based on a predefined number of iterations or when a certain level of accuracy is achieved. Choosing appropriate stopping criteria is important to prevent overfitting or underfitting of the data.\n",
    "\n",
    "\n",
    "It is worth noting that the impact of these parameters can vary depending on the specific problem and dataset. Therefore, it is important to carefully tune these parameters to achieve optimal performance for a given task.\n"
   ]
  },
  {
   "cell_type": "code",
   "execution_count": 55,
   "metadata": {
    "id": "TtD8_GY8VGA4"
   },
   "outputs": [
    {
     "name": "stdout",
     "output_type": "stream",
     "text": [
      "Initial weights: [array([-0.00566939, -0.12003061]), array([2.54640505, 1.49156368])]\n",
      "Weights: [array([-0.00566939, -0.12003061]), array([2.54640505, 1.49156368])]\n",
      ">epoch=0, lrate=0.100, error=30.136\n",
      ">epoch=1, lrate=0.090, error=22.984\n",
      ">epoch=2, lrate=0.080, error=22.873\n",
      ">epoch=3, lrate=0.070, error=22.882\n",
      ">epoch=4, lrate=0.060, error=22.844\n",
      ">epoch=5, lrate=0.050, error=22.779\n",
      ">epoch=6, lrate=0.040, error=22.701\n",
      ">epoch=7, lrate=0.030, error=22.616\n",
      ">epoch=8, lrate=0.020, error=22.530\n",
      ">epoch=9, lrate=0.010, error=22.442\n",
      "Weights: [array([-2.14272489, -1.93529099]), array([2.30710455, 2.03883938])]\n"
     ]
    },
    {
     "data": {
      "image/png": "[encoded data removed]",
      "text/plain": [
       "<Figure size 432x288 with 1 Axes>"
      ]
     },
     "metadata": {
      "needs_background": "light"
     },
     "output_type": "display_data"
    }
   ],
   "source": [
    "# Enter code for Question 7(b) here\n",
    "# Modifying only the Learningrate.\n",
    "learn_rate = 0.1\n",
    "weights = [dataset[i] for i in [0,1]]\n",
    "print(\"Initial weights:\",weights)\n",
    "n_epochs =10\n",
    "weights = train_LVQ(dataset, weights, learn_rate, n_epochs)\n",
    "print(\"Weights:\",weights)\n",
    "nweights=np.array(weights)\n",
    "area = np.pi*3\n",
    "plt.scatter(dataset[:,0], dataset[:,1],area,c=\"blue\",label=\"Data\")\n",
    "plt.scatter(nweights[:,0], nweights[:,1],area,c=\"red\",label=\"Weights\")\n",
    "plt.legend(loc=2)\n",
    "plt.show()"
   ]
  },
  {
   "cell_type": "markdown",
   "metadata": {},
   "source": [
    "from the above result we can see that the change in learning rate value has an improving result in reduction of error with 10 epochs as compared to Learning rate at 0.3\n",
    "  "
   ]
  },
  {
   "cell_type": "markdown",
   "metadata": {
    "id": "abvnvhaI2Lbu"
   },
   "source": [
    "## 11. Generating Fuzzy Membership functions using LVQ algorithm\n",
    "\n",
    "In the example above, there are 2 winning vectors, each vector has 2 dimensions. This can be view as 2 inputs with 2 membership functions each.\n"
   ]
  },
  {
   "cell_type": "markdown",
   "metadata": {
    "id": "UxIAqXlx2Lbv"
   },
   "source": [
    "<font color='red'>Question 8</font>: Use the winning vectors to generate triangle fuzzy membership functions for dimension 1. Plot the 2 membership functions, one for each winning vector on the same plot using different colors. <font color='red'>(1 mark)</font>"
   ]
  },
  {
   "cell_type": "code",
   "execution_count": 34,
   "metadata": {
    "id": "Y1A-XkK8WrVb"
   },
   "outputs": [
    {
     "data": {
      "image/png": "[encoded data removed]",
      "text/plain": [
       "<Figure size 432x288 with 1 Axes>"
      ]
     },
     "metadata": {
      "needs_background": "light"
     },
     "output_type": "display_data"
    }
   ],
   "source": [
    "# Enter code for Question 8 here\n",
    "# get range to plot\n",
    "d1_max = np.max(dataset[:,0])\n",
    "d1_min = np.min(dataset[:,0])\n",
    "x = np.linspace(d1_min, d1_max, 1001)\n",
    "\n",
    "# sort nweights by d1 for order\n",
    "nweights = nweights[nweights[:, 0].argsort()]\n",
    "\n",
    "# initialize a and c\n",
    "a = np.zeros((len(b),1))\n",
    "c = np.zeros((len(b),1))\n",
    "\n",
    "# get center of triangular fmf from nweights\n",
    "b = np.sort(nweights[:,0])\n",
    "\n",
    "# get median value of dataset\n",
    "d1_med = np.median(dataset[:,0])\n",
    "\n",
    "# set a[0]- Dataset minimum value\n",
    "# c[0],a[1]- Dataset median value\n",
    "# c[1]- Dataset maximum value\n",
    "a[0] = d1_min\n",
    "c[0] = d1_med\n",
    "a[1] = d1_med\n",
    "c[1] = d1_max\n",
    "\n",
    "# plot triangular FMF\n",
    "fmf_1 = fz.trimf(x, [a[0], b[0], c[0]])\n",
    "fmf_2 = fz.trimf(x, [a[1], b[1], c[1]])\n",
    "plt.plot(x, fmf_1)\n",
    "plt.plot(x, fmf_2)\n",
    "plt.xlabel('Triangle FMF for Dimension 1')\n",
    "plt.show()"
   ]
  },
  {
   "cell_type": "markdown",
   "metadata": {
    "id": "hxwKdeNC2Lbw"
   },
   "source": [
    "<font color='red'>Question 9</font>: Use the winning vectors to generate Gaussian membership functions for dimension 2. Plot the 2 membership functions, one for each winning vector on the same plot using different colors. <font color='red'>(1 mark)</font>"
   ]
  },
  {
   "cell_type": "code",
   "execution_count": 35,
   "metadata": {
    "id": "IHsx9S2zMqEK"
   },
   "outputs": [
    {
     "data": {
      "image/png": "[encoded data removed]",
      "text/plain": [
       "<Figure size 432x288 with 1 Axes>"
      ]
     },
     "metadata": {
      "needs_background": "light"
     },
     "output_type": "display_data"
    }
   ],
   "source": [
    "# Enter code for Question 9 here\n",
    "# get range to plot\n",
    "d2_max = np.max(dataset[:,1])\n",
    "d2_min = np.min(dataset[:,1])\n",
    "x = np.linspace(d2_min, d2_max, 1001)\n",
    "\n",
    "# sort nweights by d2 for order\n",
    "nweights = nweights[nweights[:, 1].argsort()]\n",
    "\n",
    "# get center of triangular fmf from nweights and set width\n",
    "b = nweights[:,1]\n",
    "width = 1\n",
    "\n",
    "# plot gaussian FMF\n",
    "fmf_1 = fz.gaussmf(x, [width, b[0]])\n",
    "fmf_2 = fz.gaussmf(x, [width, b[1]])\n",
    "plt.plot(x, fmf_1)\n",
    "plt.plot(x, fmf_2)\n",
    "plt.xlabel('Gaussian FMF for Dimension 2')\n",
    "plt.show()"
   ]
  },
  {
   "cell_type": "markdown",
   "metadata": {
    "id": "eNjI4iSpMuYR"
   },
   "source": [
    "<font color='red'>Question 10</font>. Add code to modify the triangular membership function in question 8 so that they satisfy coverage, normalized, convex and ordered. Hint: Refer to lecture notes on interpretability of Fuzzy membership functions. <font color='red'>(1 mark)</font>"
   ]
  },
  {
   "cell_type": "code",
   "execution_count": 46,
   "metadata": {
    "id": "-G2Ahu4ONBma"
   },
   "outputs": [
    {
     "data": {
      "image/png": "[encoded data removed]",
      "text/plain": [
       "<Figure size 432x288 with 1 Axes>"
      ]
     },
     "metadata": {
      "needs_background": "light"
     },
     "output_type": "display_data"
    }
   ],
   "source": [
    "# Enter code for Question 10 here\n",
    "# get range to plot\n",
    "# Method 1: Using Eculidean distance\n",
    "d1_max = np.max(dataset[:,0])\n",
    "d1_min = np.min(dataset[:,0])\n",
    "\n",
    "# sort nweights by d1 for order\n",
    "nweights = nweights[nweights[:, 0].argsort()]\n",
    "\n",
    "# get center of triangular fmf from nweights\n",
    "b = nweights[:,0]\n",
    "\n",
    "# get number of clusters\n",
    "n_fmf = len(nweights)\n",
    "\n",
    "# cluster index using euclidean distance from nweights\n",
    "e_dist = np.zeros((len(dataset), n_fmf))\n",
    "for i in range(len(dataset)):\n",
    "    for j in range(n_fmf):\n",
    "        e_dist[i,j] = np.sqrt(((dataset[i,:] - nweights[j,:])**2).sum())\n",
    "cluster_index = np.argmin(e_dist, axis=1)\n",
    "\n",
    "# Calculate the cluster index using Euclidean distance from nweights #metod 2\n",
    "e_dist1 = np.linalg.norm(dataset[:, np.newaxis] - nweights, axis=2)\n",
    "cluster_index1 = np.argmin(e_dist, axis=1)\n",
    "\n",
    "# Initialize arrays to store parameters for each membership function\n",
    "a = np.zeros(n_fmf)\n",
    "c = np.zeros(n_fmf)\n",
    "fmf = np.zeros((n_fmf,1001))\n",
    "\n",
    "# repeat, for each cluster i,\n",
    "for i in range(n_fmf):\n",
    "    # get index of samples which belong to cluster i\n",
    "    dataset_index = np.where(cluster_index==i)\n",
    "    value = np.zeros(len(dataset_index[0]))\n",
    "    \n",
    "    # get a list of the samples' d1 values\n",
    "    for j in range(len(dataset_index[0])):\n",
    "        value[j] = dataset[dataset_index[0][j],0]\n",
    "    \n",
    "    # set a[i] and c[i] to be the min and max value from the cluster i\n",
    "    a[i] = min(value)\n",
    "    c[i] = max(value)\n",
    "    \n",
    "# Set parameters for each triangular FMF and Plot the triangular FMFs\n",
    "x = np.linspace(d1_min, d1_max, 1001)\n",
    "for i in range(n_fmf):\n",
    "    if (i==0):\n",
    "        c[i] = (a[i+1] + c[i]) / 2\n",
    "    elif (i!=(n_fmf-1)):\n",
    "        a[i] = c[i-1]\n",
    "        c[i] = (a[i+1] + c[i]) / 2\n",
    "    else:\n",
    "        a[i] = c[i-1]\n",
    "    fmf[i] = fz.trimf(x, [a[i], b[i], c[i]])\n",
    "    plt.plot(x, fmf[i])\n",
    "\n",
    "plt.xlabel('Triangle FMF for dimension 1')\n",
    "plt.show()\n"
   ]
  },
  {
   "cell_type": "code",
   "execution_count": 44,
   "metadata": {},
   "outputs": [
    {
     "data": {
      "image/png": "[encoded data removed]",
      "text/plain": [
       "<Figure size 432x288 with 1 Axes>"
      ]
     },
     "metadata": {
      "needs_background": "light"
     },
     "output_type": "display_data"
    }
   ],
   "source": [
    "#Method 2 :convexity by adjusting b_values\n",
    "# Sort nweights by d1 for order\n",
    "nweights = nweights[nweights[:, 0].argsort()]\n",
    "\n",
    "# Initialize arrays to store parameters for each membership function\n",
    "a_values = np.zeros(len(nweights))\n",
    "b_values = nweights[:, 0]\n",
    "c_values = np.zeros(len(nweights))\n",
    "\n",
    "# Set parameters for each triangular FMF to satisfy coverage, normalization, convexity, and order\n",
    "for i in range(len(nweights)):\n",
    "    if i == 0:\n",
    "        a_values[i] = d1_min\n",
    "        c_values[i] = (nweights[i, 0] + nweights[i+1, 0]) / 2\n",
    "    elif i == len(nweights) - 1:\n",
    "        a_values[i] = (nweights[i-1, 0] + nweights[i, 0]) / 2\n",
    "        c_values[i] = d1_max\n",
    "    else:\n",
    "        a_values[i] = (nweights[i-1, 0] + nweights[i, 0]) / 2\n",
    "        c_values[i] = (nweights[i, 0] + nweights[i+1, 0]) / 2\n",
    "\n",
    "# Ensure convexity by adjusting b_values\n",
    "for i in range(1, len(nweights) - 1):\n",
    "    b_values[i] = (a_values[i] + c_values[i]) / 2\n",
    "\n",
    "# Normalize the parameters\n",
    "a_values = (a_values - d1_min) / (d1_max - d1_min)\n",
    "b_values = (b_values - d1_min) / (d1_max - d1_min)\n",
    "c_values = (c_values - d1_min) / (d1_max - d1_min)\n",
    "\n",
    "# Plot the modified triangular FMFs\n",
    "x = np.linspace(d1_min, d1_max, 1001)\n",
    "for i in range(len(nweights)):\n",
    "    fmf = np.maximum(0, np.minimum((x - a_values[i]) / (b_values[i] - a_values[i]),\n",
    "                                  (c_values[i] - x) / (c_values[i] - b_values[i])))\n",
    "    plt.plot(x, fmf, label=f'Membership Function {i + 1}')\n",
    "\n",
    "plt.xlabel('Triangle FMF for Dimension 1')\n",
    "plt.legend()\n",
    "plt.show()"
   ]
  }
 ],
 "metadata": {
  "colab": {
   "provenance": []
  },
  "kernelspec": {
   "display_name": "Python 3",
   "language": "python",
   "name": "python3"
  },
  "language_info": {
   "codemirror_mode": {
    "name": "ipython",
    "version": 3
   },
   "file_extension": ".py",
   "mimetype": "text/x-python",
   "name": "python",
   "nbconvert_exporter": "python",
   "pygments_lexer": "ipython3",
   "version": "3.8.8"
  }
 },
 "nbformat": 4,
 "nbformat_minor": 1
}
